{
 "cells": [
  {
   "cell_type": "code",
   "execution_count": 1,
   "metadata": {},
   "outputs": [],
   "source": [
    "import tkinter as tk"
   ]
  },
  {
   "cell_type": "code",
   "execution_count": 2,
   "metadata": {},
   "outputs": [
    {
     "ename": "TypeError",
     "evalue": "unsupported operand type(s) for +: 'int' and 'Tk'",
     "output_type": "error",
     "traceback": [
      "\u001b[1;31m---------------------------------------------------------------------------\u001b[0m",
      "\u001b[1;31mTypeError\u001b[0m                                 Traceback (most recent call last)",
      "Cell \u001b[1;32mIn[2], line 21\u001b[0m\n\u001b[0;32m     19\u001b[0m frame_borderwidth \u001b[39m=\u001b[39m \u001b[39m2\u001b[39m \u001b[39m*\u001b[39m (frame\u001b[39m.\u001b[39mwinfo_width() \u001b[39m-\u001b[39m frame_width)\n\u001b[0;32m     20\u001b[0m frame\u001b[39m.\u001b[39mupdate_idletasks()\n\u001b[1;32m---> 21\u001b[0m frame_height \u001b[39m=\u001b[39m listbox\u001b[39m.\u001b[39;49mwinfo_height() \u001b[39m+\u001b[39;49m frame\u001b[39m.\u001b[39;49mwinfo_toplevel() \u001b[39m-\u001b[39m frame\u001b[39m.\u001b[39mwinfo_height()\n\u001b[0;32m     24\u001b[0m \u001b[39m# Configurer la taille du cadre\u001b[39;00m\n\u001b[0;32m     25\u001b[0m frame\u001b[39m.\u001b[39mconfig(width\u001b[39m=\u001b[39mframe_width, height\u001b[39m=\u001b[39mframe_height)\n",
      "\u001b[1;31mTypeError\u001b[0m: unsupported operand type(s) for +: 'int' and 'Tk'"
     ]
    },
    {
     "ename": "",
     "evalue": "",
     "output_type": "error",
     "traceback": [
      "\u001b[1;31mThe Kernel crashed while executing code in the the current cell or a previous cell. Please review the code in the cell(s) to identify a possible cause of the failure. Click <a href='https://aka.ms/vscodeJupyterKernelCrash'>here</a> for more info. View Jupyter <a href='command:jupyter.viewOutput'>log</a> for further details."
     ]
    }
   ],
   "source": [
    "# Créer la fenêtre principale\n",
    "window = tk.Tk()\n",
    "window.title(\"Accueil\")\n",
    "window.geometry(\"300x300\")\n",
    "\n",
    "# Créer une liste de choix\n",
    "choices = [\"Choix 1\", \"Choix 2\", \"Choix 3\"]\n",
    "frame = tk.Frame(window)\n",
    "frame.pack(pady=10, expand=True, fill=tk.BOTH)\n",
    "frame.place(x=20, y=20)\n",
    "\n",
    "listbox = tk.Listbox(frame)  # Ajouter la liste à l'intérieur du cadre\n",
    "for choice in choices:\n",
    "    listbox.insert(tk.END, choice)\n",
    "listbox.pack(side=tk.LEFT, fill=tk.BOTH, expand=True)  # Utiliser pack() sur le cadre, pas sur la liste\n",
    "\n",
    "# Calculer la hauteur requise du cadre\n",
    "frame_width = listbox.winfo_reqwidth()\n",
    "frame_borderwidth = 2 * (frame.winfo_width() - frame_width)\n",
    "frame.update_idletasks()\n",
    "frame_height = listbox.winfo_height() + frame.winfo_toplevel() - frame.winfo_height()\n",
    "\n",
    "\n",
    "# Configurer la taille du cadre\n",
    "frame.config(width=frame_width, height=frame_height)\n",
    "\n",
    "# Démarrer la boucle principale de l'interface graphique\n",
    "window.mainloop()"
   ]
  }
 ],
 "metadata": {
  "kernelspec": {
   "display_name": "Env-Bar",
   "language": "python",
   "name": "python3"
  },
  "language_info": {
   "codemirror_mode": {
    "name": "ipython",
    "version": 3
   },
   "file_extension": ".py",
   "mimetype": "text/x-python",
   "name": "python",
   "nbconvert_exporter": "python",
   "pygments_lexer": "ipython3",
   "version": "3.11.2"
  },
  "orig_nbformat": 4,
  "vscode": {
   "interpreter": {
    "hash": "5e52955997c3eb9f0f0bc6ceed14264dbd8c70b3cce7c9aa9ab7d6985f81b84e"
   }
  }
 },
 "nbformat": 4,
 "nbformat_minor": 2
}
